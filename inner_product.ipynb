{
 "cells": [
  {
   "cell_type": "markdown",
   "id": "c540f614-e6d9-42f4-b62a-ed4a8fadbae9",
   "metadata": {},
   "source": [
    "**A quantum subroutine for speeding up HYPMIX**\n",
    "\n",
    "by Ashish K S Arya, ashishk1@hotmail.com\n",
    "\n",
    "A quantum subroutine for computationally complex inner product calculation is proposed. This is an implementation of the proposed method in Qiskit. In order to run this you must have an account on IBM Quantum platform quantum-computing.ibm.com, thereafter you can run from inside IBM Quantum Lab. It's free.\n",
    "\n",
    "*For this specific code the input vectors x,y (with norms < 1) are being prepared in inital steps and then fed to the quantumsubroutine. However, it is supposed to coming from the the classical part.*   \n"
   ]
  },
  {
   "cell_type": "code",
   "execution_count": 51,
   "id": "d8077b0b-06d4-46e2-a16a-12faf8e302f2",
   "metadata": {},
   "outputs": [],
   "source": [
    "#Import necessary libraries\n",
    "\n",
    "from qiskit import QuantumCircuit,QuantumRegister,ClassicalRegister,Aer, assemble, transpile,IBMQ\n",
    "from qiskit.providers.ibmq import least_busy\n",
    "from qiskit import execute, BasicAer\n",
    "from qiskit.visualization import plot_state_qsphere,plot_histogram, plot_bloch_multivector\n",
    "from qiskit.quantum_info import Statevector,random_statevector\n",
    "import qiskit.quantum_info as qi\n",
    "\n",
    "from itertools import zip_longest\n",
    "from scipy.stats import unitary_group\n",
    "\n"
   ]
  },
  {
   "cell_type": "markdown",
   "id": "bc401d1c-169d-4e3d-9ce6-44443c74db2c",
   "metadata": {},
   "source": [
    "**Let's first define the function to create two vector x,y for which we want to calculate the inner product. Remember ||x|| <1 and ||y|| <1**\n",
    "\n",
    "We generate two random vectors (of size length_vector), normalize them and then delete last two elements of the vector to ensure their norms are less than 1. The size of the vectors at output of this function will be (length_vector-2)."
   ]
  },
  {
   "cell_type": "code",
   "execution_count": 52,
   "id": "ed87bae2-4e0d-427b-afc8-b4e1ffa39451",
   "metadata": {},
   "outputs": [],
   "source": [
    "#Prepare the input to the subroutine \n",
    "\n",
    "import random\n",
    "import numpy as np\n",
    "\n",
    "def generate_random_vectors(length_vector):\n",
    "    #Generate a random vector\n",
    "    vector1 = [random.randrange(1, 100, 1) for i in range(length_vector)]\n",
    "    vector2 = [random.randrange(1, 100, 1) for i in range(length_vector)]\n",
    "\n",
    "    vector1=vector1/np.linalg.norm(vector1)\n",
    "    #print(np.linalg.norm(vector1))\n",
    "\n",
    "    vector2=vector2/np.linalg.norm(vector2)\n",
    "    #print(np.linalg.norm(vector2))\n",
    "\n",
    "    #we in order to have a vector with norm <1 we can drop an element from the list\n",
    "\n",
    "    vector1=np.delete(vector1,[-1])\n",
    "    vector2=np.delete(vector2,[-1])\n",
    "\n",
    "\n",
    "    #print(\"norm vector1= \",np.linalg.norm(vector1), len(vector1))\n",
    "    #print(\"norm vector2= \",np.linalg.norm(vector2), len(vector2))\n",
    "    return vector1,vector2\n",
    "\n",
    "          "
   ]
  },
  {
   "cell_type": "markdown",
   "id": "19501dd5-48bc-43bb-a943-d357c6dc6d46",
   "metadata": {},
   "source": [
    "**Now suppose we have two vector x,y; Let's define the function add the dummy variables.**\n",
    "\n",
    "From this point the quantum subroutine starts. The vector generated in the above step are the inputs to the quantum sub routine.\n",
    "\n",
    "However since can only load normalized vectors into a quantum circuit we need to introduce a dummy variable to make the norm of x and y equalt to 1."
   ]
  },
  {
   "cell_type": "code",
   "execution_count": 53,
   "id": "041c1ca8-f19d-4e14-9771-6db8adffbe2e",
   "metadata": {},
   "outputs": [],
   "source": [
    "def add_dummy_variables(vector1,vector2):\n",
    "    norm1=np.linalg.norm(vector1)\n",
    "    norm2=np.linalg.norm(vector2)\n",
    "    \n",
    "    dummy_variable1=np.sqrt(1-norm1**2)\n",
    "    dummy_variable2=np.sqrt(1-norm2**2)\n",
    "\n",
    "    vector1=np.append(vector1,dummy_variable1)\n",
    "    vector2=np.append(vector2,dummy_variable2)\n",
    "\n",
    "    norm1=np.linalg.norm(vector1)\n",
    "    norm2=np.linalg.norm(vector2)\n",
    "\n",
    "    return vector1,vector2\n"
   ]
  },
  {
   "cell_type": "markdown",
   "id": "f53c2d32-86af-45db-a4ee-381f29450029",
   "metadata": {},
   "source": [
    "**Let's define the function to build the quantum vectors to load the inputs into quantum circuit**\n",
    "\n",
    "number of qubits required is ceil of log2 (length of vector) \n",
    "Further in length of vector in not a power of two then we pad the input vectors with zeros to feed it into the quantum circuit. padding with zeros does not change the norm."
   ]
  },
  {
   "cell_type": "code",
   "execution_count": 54,
   "id": "9ee8cffd-c708-4873-b8be-9e4e951ea10f",
   "metadata": {},
   "outputs": [],
   "source": [
    "#Since any quantum state will have 2^n possibilities, if our vector is less than 2^n for a suitable n we will pad it with zeros\n",
    "\n",
    "def make_quantum_vector(vector1d,vector2d):\n",
    "    length_vector=len(vector1d)\n",
    "\n",
    "    #is it 2^n\n",
    "    n=np.log2(length_vector)\n",
    "\n",
    "    num_qubits=int(np.ceil(n))\n",
    "    print(\"number of qubits: \",num_qubits)\n",
    "\n",
    "    #To embed the given vectors vector1 and vector2 we create two random vectors \n",
    "    #using Statevector class of size num_qubits, multiply them with zero and then add the values of vector1 and vector2 on these, padding \n",
    "    #will automatically come in this way\n",
    "\n",
    "    dummy_vector1=[0]*2**num_qubits\n",
    "\n",
    "    #Lets call the vector after padding as quantum_vector1 and quantum_vector2\n",
    "    quantum_vector1=[x+y for x,y in zip_longest(dummy_vector1, vector1d, fillvalue=0)]\n",
    "    quantum_vector2=[x+y for x,y in zip_longest(dummy_vector1, vector2d, fillvalue=0)]\n",
    "    \n",
    "    return quantum_vector1,quantum_vector2,num_qubits"
   ]
  },
  {
   "cell_type": "markdown",
   "id": "c0ba7776-ece4-4926-a306-49e8a1b9be41",
   "metadata": {},
   "source": [
    "**Now we have two proper quantum vectors ,let's define the function to create a quantum circuit to upload these quantum vectors**"
   ]
  },
  {
   "cell_type": "code",
   "execution_count": 55,
   "id": "6c7881b7-f61c-494f-94ec-fa7f5719e2dd",
   "metadata": {},
   "outputs": [],
   "source": [
    "# We need to initialize a quantum circuit of num_qubits with the quantum vector 1 \n",
    "\n",
    "def initializer_circuit(num_qubits,quantum_vector1,quantum_vector2):\n",
    "    qc_quantum_vector1 = QuantumCircuit(num_qubits,name='vector1')\n",
    "    qc_quantum_vector1.initialize(quantum_vector1)\n",
    "    qc_quantum_vector1 = transpile(qc_quantum_vector1, basis_gates = ['u', 'cx'])\n",
    "    qc_quantum_vector1 =qc_quantum_vector1.control(1,ctrl_state='0')\n",
    "\n",
    "    #qc_quantum_vector1_to_gate=qc_quantum_vector1.to_gate()\n",
    "    \n",
    "\n",
    "    # We need to initialize a quantum circuit of num_qubits with the quantum vector 2\n",
    "\n",
    "    qc_quantum_vector2 = QuantumCircuit(num_qubits,name='vector2')\n",
    "    qc_quantum_vector2.initialize(quantum_vector2)\n",
    "    qc_quantum_vector2 = transpile(qc_quantum_vector2, basis_gates = ['u', 'cx'])\n",
    "    qc_quantum_vector2 =qc_quantum_vector2.control(1,ctrl_state='1')\n",
    "\n",
    "\n",
    "    return qc_quantum_vector1,qc_quantum_vector2"
   ]
  },
  {
   "cell_type": "markdown",
   "id": "e552d21b-d70a-423c-bc2b-d421561d8f8c",
   "metadata": {},
   "source": [
    "**Lets define a function to generate the main quantum circuit with the qubit_0 as control qubit [this qubit will be measured to get the estimate inner product] and add the initializer circuits to this.** "
   ]
  },
  {
   "cell_type": "code",
   "execution_count": 56,
   "id": "21922265-3283-4176-9484-09de08b872fc",
   "metadata": {},
   "outputs": [],
   "source": [
    "def get_main_circuit(qc_quantum_vector1,qc_quantum_vector2,num_qubits):\n",
    "    inner_product_circuit = QuantumCircuit(num_qubits+1,1, name='inner product circuit')\n",
    "\n",
    "    #We need to get the control qubit [first qubit] in super position\n",
    "\n",
    "    inner_product_circuit.h(0)\n",
    "\n",
    "    inner_product_circuit.append(qc_quantum_vector1, inner_product_circuit.qubits) \n",
    "\n",
    "    inner_product_circuit.append(qc_quantum_vector2, inner_product_circuit.qubits) \n",
    "    \n",
    "\n",
    "    #We need to get the control qubit [first qubit] in super position [again] after adding the ininiatization circuits\n",
    "    inner_product_circuit.h(0)\n",
    "\n",
    "    #We need to add the measurement to first_qubit\n",
    "    inner_product_circuit.measure([0],0)\n",
    "\n",
    "    #inner_product_circuit = inner_product_circuit.decompose()\n",
    "    inner_product_circuit.draw('mpl')\n",
    "    return inner_product_circuit\n",
    "\n",
    "#lets conduct measurement of the first qubit and get the probabilities\n",
    "\n",
    "def measure_step(inner_product_circuit,repetitions):\n",
    "    backend = BasicAer.get_backend('qasm_simulator')\n",
    "    job = execute(inner_product_circuit, backend, shots=repetitions)\n",
    "    result = job.result()\n",
    "    counts = result.get_counts(inner_product_circuit)\n",
    "    plot_histogram(counts)\n",
    "    return counts\n"
   ]
  },
  {
   "cell_type": "markdown",
   "id": "43ef569f-23b1-42f6-81f2-44cea3aa30dc",
   "metadata": {},
   "source": [
    "**Now we have defined all the required functions, lets call them**"
   ]
  },
  {
   "cell_type": "code",
   "execution_count": 66,
   "id": "2683644c-6539-4753-8f70-6de67f58340e",
   "metadata": {},
   "outputs": [
    {
     "name": "stdout",
     "output_type": "stream",
     "text": [
      "[0.37230022 0.40994855 0.06274723 0.01673259 0.38484966 0.33046873\n",
      " 0.11294501 0.14222705 0.16314279 0.34720133 0.25517206 0.33046873\n",
      " 0.15477649 0.19660798] , length of vector1:  14 , norm of vector1:  0.99261451074493\n",
      "[0.37230022 0.40994855 0.06274723 0.01673259 0.38484966 0.33046873\n",
      " 0.11294501 0.14222705 0.16314279 0.34720133 0.25517206 0.33046873\n",
      " 0.15477649 0.19660798] , length of vector2:  14 , norm of vector2:  0.9442135835240555\n",
      "\n",
      "norms before including the dummy variable  0.99261451074493   0.9442135835240555 inner product:  0.777486351342486\n",
      "\n",
      "dummy variable vector 1  0.12131130639228671 vector 1:  [0.37230022 0.40994855 0.06274723 0.01673259 0.38484966 0.33046873\n",
      " 0.11294501 0.14222705 0.16314279 0.34720133 0.25517206 0.33046873\n",
      " 0.15477649 0.19660798 0.12131131] , length of vector1:  15 , norm of vector1 after including dummy:  1.0\n",
      "dummy variable vector 2  0.3293337345135805 vector 2:  [0.29324237 0.25263958 0.35189084 0.257151   0.36993652 0.17594542\n",
      " 0.29775379 0.10376268 0.13083121 0.32933373 0.16692258 0.07218274\n",
      " 0.26617384 0.23459389 0.32933373] , length of vector2:  15 , norm of vector2 after including dummy:  1.0\n",
      "number of qubits:  4\n",
      "\n",
      "quantum vector1:  [0.3723002161694315, 0.4099485526360032, 0.06274722744428621, 0.01673259398514299, 0.3848496616582887, 0.330468731206574, 0.11294500939971516, 0.1422270488737154, 0.16314279135514415, 0.347201325191717, 0.2551720582734306, 0.330468731206574, 0.15477649436257263, 0.19660797932543012, 0.12131130639228671, 0] , length  16 , norm after padding:  1.0\n",
      "quantum vector2:  [0.29324236634770845, 0.2526395771611027, 0.35189083961725015, 0.2571509981818367, 0.3699365237001861, 0.17594541980862508, 0.29775378736844244, 0.10376268347688146, 0.13083120960128533, 0.3293337345135803, 0.16692257776715713, 0.07218273633174363, 0.2661738402233046, 0.23459389307816678, 0.3293337345135805, 0] , length  16 , norm after padding:  1.0\n"
     ]
    }
   ],
   "source": [
    "#First generate the two random vectors of a fixed length\n",
    " \n",
    "length_vector=15 #Length of the generated random vector in length_vector-1 since we are dropping two last elements to make sure norm of random vector is <1\n",
    "vector1,vector2=generate_random_vectors(length_vector)\n",
    "norm1=np.linalg.norm(vector1)\n",
    "norm2=np.linalg.norm(vector2)\n",
    "\n",
    "#Lets print them along their norms and lengths\n",
    "\n",
    "print(vector1, \", length of vector1: \",len(vector1), ', norm of vector1: ',norm1)\n",
    "print(vector1, \", length of vector2: \",len(vector2), ', norm of vector2: ',norm2)\n",
    "\n",
    "print(\"\\nnorms before including the dummy variable \",norm1,\" \",norm2, \"inner product: \",np.inner(vector1,vector2))\n",
    "\n",
    "vector1d,vector2d=add_dummy_variables(vector1,vector2)\n",
    "norm1d=np.linalg.norm(vector1d)\n",
    "norm2d=np.linalg.norm(vector2d)\n",
    "\n",
    "print(\"\\ndummy variable vector 1 \",vector1d[-1],\"vector 1: \",vector1d, \", length of vector1: \",len(vector1d), ', norm of vector1 after including dummy: ',norm1d)\n",
    "print(\"dummy variable vector 2 \",vector2d[-1],\"vector 2: \",vector2d, \", length of vector2: \",len(vector2d), ', norm of vector2 after including dummy: ',norm2d)\n",
    "    \n",
    "#Now lets make quantum vectors out of the vectors with dummy variables above\n",
    "quantum_vector1,quantum_vector2,num_qubits=make_quantum_vector(vector1d,vector2d)\n",
    "quantum_vector1_norm=np.linalg.norm(quantum_vector1)\n",
    "quantum_vector2_norm=np.linalg.norm(quantum_vector2)\n",
    "\n",
    "print(\"\\nquantum vector1: \",quantum_vector1, \", length \", len(quantum_vector1),\", norm after padding: \",quantum_vector1_norm)\n",
    "print(\"quantum vector2: \",quantum_vector2, \", length \", len(quantum_vector2),\", norm after padding: \",quantum_vector1_norm)"
   ]
  },
  {
   "cell_type": "markdown",
   "id": "caabb346-673f-4f51-aa57-566b858a6bb0",
   "metadata": {},
   "source": [
    "**Now the set up is ready for the experiment to estimate the inner product of input vectors. This is done in two steps:**\n",
    "\n",
    "Step 1: First estimate probability of qubit_0 being in state |0>. \n",
    "        since p=(1/2)(1+Re<x,y>)\n",
    "        \n",
    "        => Re<quantum_vector1,quantum_vevtor2>= 2*p-1 since our vectors are only real valued therefore Re<a,b>=<a,b>\n",
    "        \n",
    "        since vector1 and and vector 2 are zero padded version of quantum_vector1 and quantum_vector2\n",
    "        \n",
    "        => <vector1_with_dummy,vector2_with_dummy>=Re<quantum_vector1,quantum_vevtor2>\n",
    "        \n",
    "        We need to run the experiment multiple times (at least sqrt(size of vectors) times for increased accuracy of the estimate\n",
    "\n",
    "Step 2: We need to exclude the dummy variables from the estimate of inner product of vector1 and vector2\n",
    "    \n",
    "        <vector1 ,vector2> = <vector1_with_dummy,vector2_with_dummy> - dummy_of_vector1*dummy_of_vector2\n",
    "       "
   ]
  },
  {
   "cell_type": "markdown",
   "id": "2b6a3e75-80f1-403c-bac6-2b726e23837d",
   "metadata": {},
   "source": [
    "**Now let's run the quantum circuit on a quantum simulator**"
   ]
  },
  {
   "cell_type": "code",
   "execution_count": 67,
   "id": "029adb0d-1c1a-4e66-a5f9-e47cd1fc3a58",
   "metadata": {},
   "outputs": [
    {
     "name": "stdout",
     "output_type": "stream",
     "text": [
      "\n",
      "Estimated_inner_product  0.776648094427107 numpy inner product:  0.777486351342486\n",
      "Qiskit circuit depth to estimate the inner product:  5\n"
     ]
    },
    {
     "data": {
      "image/png": "[encoded data removed]",
      "text/plain": [
       "<Figure size 504x360 with 1 Axes>"
      ]
     },
     "metadata": {},
     "output_type": "display_data"
    }
   ],
   "source": [
    "#Genarate the quantum circuit to estimate the inner product\n",
    "qc_quantum_vector1,qc_quantum_vector2=initializer_circuit(num_qubits,quantum_vector1,quantum_vector2)\n",
    "\n",
    "repetitions=20000 #We need to decide how many times we want to run the quantum circuit experiment. Value 20000 is chosen arbitrarily\n",
    "                  #Maximum value allowed in IBM quantum simulator is 65536\n",
    "\n",
    "inner_product_circuit=get_main_circuit(qc_quantum_vector1,qc_quantum_vector2,num_qubits)\n",
    "counts=measure_step(inner_product_circuit,repetitions)\n",
    "p=counts['0']/(counts['0']+counts['1'])\n",
    "#print(counts['0'],counts['1'],p)\n",
    "\n",
    "estimated_inner_product_with_dummy=2*p-1\n",
    "    \n",
    "estimated_inner_product_without_dummy=estimated_inner_product_with_dummy- vector1d[-1]*vector2d[-1] \n",
    "\n",
    "                \n",
    "print('\\nEstimated_inner_product ',estimated_inner_product_without_dummy,'numpy inner product: ', np.inner(vector1,vector2))\n",
    "print('Qiskit circuit depth to estimate the inner product: ', inner_product_circuit.depth())\n",
    "\n",
    "    \n",
    "display(plot_histogram(counts))\n",
    "\n"
   ]
  },
  {
   "cell_type": "markdown",
   "id": "db148295-1655-46e2-abc7-fbc9fe5b98f0",
   "metadata": {},
   "source": [
    "**Lets draw the quantum circuit**"
   ]
  },
  {
   "cell_type": "code",
   "execution_count": 68,
   "id": "e7dd8f40-b7f4-43fd-96ae-f24fedaba338",
   "metadata": {},
   "outputs": [
    {
     "data": {
      "image/png": "[encoded data removed]",
      "text/plain": [
       "<Figure size 507.997x385.28 with 1 Axes>"
      ]
     },
     "execution_count": 68,
     "metadata": {},
     "output_type": "execute_result"
    }
   ],
   "source": [
    "inner_product_circuit=get_main_circuit(qc_quantum_vector1,qc_quantum_vector2,num_qubits)\n",
    "inner_product_circuit.draw('mpl')"
   ]
  },
  {
   "cell_type": "markdown",
   "id": "e475b346-1557-49ea-b379-d72b2dab99c5",
   "metadata": {},
   "source": [
    "**Now let's run the quantum circuit on a real quantum device**\n",
    "\n",
    "*I have found that the real quantum device with more that 5 qubits are unavilable*"
   ]
  },
  {
   "cell_type": "code",
   "execution_count": null,
   "id": "cebc6891-cbff-4b77-9629-1312fbfad066",
   "metadata": {},
   "outputs": [
    {
     "name": "stderr",
     "output_type": "stream",
     "text": [
      "ibmqfactory.load_account:WARNING:2021-12-01 11:37:08,725: Credentials are already in use. The existing account in the session will be replaced.\n"
     ]
    },
    {
     "name": "stdout",
     "output_type": "stream",
     "text": [
      "least busy backend:  ibmq_belem\n",
      "Job Status: job is actively running"
     ]
    }
   ],
   "source": [
    "# Load our saved IBMQ accounts and get the least busy backend device with greater than or equal to num_qubits+1 qubits\n",
    "IBMQ.load_account()\n",
    "provider = IBMQ.get_provider(hub='ibm-q')\n",
    "backend = least_busy(provider.backends(filters=lambda x: x.configuration().n_qubits >= (num_qubits+1) and\n",
    "                                   not x.configuration().simulator and x.status().operational==True))\n",
    "print(\"least busy backend: \", backend)\n",
    "\n",
    "# Run our circuit on the least busy backend. Monitor the execution of the job in the queue\n",
    "from qiskit.tools.monitor import job_monitor\n",
    "\n",
    "repetitions=20000 #Chose a value eqaul to or below 20000,maximum shots allowed is 20000\n",
    "transpiled_circuit = transpile(inner_product_circuit, backend, optimization_level=1)\n",
    "job = backend.run(transpiled_circuit,shots=repetitions) \n",
    "job_monitor(job, interval=2)\n",
    "\n",
    "# Get the results of the computation\n",
    "results = job.result()\n",
    "counts = results.get_counts()\n",
    "\n",
    "p=counts['0']/(counts['0']+counts['1'])\n",
    "#print(counts['0'],counts['1'],p)\n",
    "\n",
    "estimated_inner_product_with_dummy=2*p-1\n",
    "    \n",
    "estimated_inner_product_without_dummy=estimated_inner_product_with_dummy- vector1d[-1]*vector2d[-1] \n",
    "\n",
    "                \n",
    "print('\\nEstimated_inner_product ',estimated_inner_product_without_dummy,'numpy inner product: ', np.inner(vector1,vector2))\n",
    "print('Quantum circuit depth on real quantum device to estimate the inner product: ', transpiled_circuit.depth())\n",
    "\n",
    "    \n",
    "display(plot_histogram(counts))"
   ]
  },
  {
   "cell_type": "code",
   "execution_count": null,
   "id": "e6f72880-e726-42ce-86fc-afd6643d4985",
   "metadata": {},
   "outputs": [],
   "source": [
    "#lets decompose the entire circuit and print \\\n",
    "#inner_product_circuit = inner_product_circuit.decompose()\n",
    "#inner_product_circuit.draw('mpl')"
   ]
  },
  {
   "cell_type": "code",
   "execution_count": null,
   "id": "029f3fd9-249b-45a0-b837-92af69386612",
   "metadata": {},
   "outputs": [],
   "source": []
  }
 ],
 "metadata": {
  "kernelspec": {
   "display_name": "Qiskit v0.32.1 (ipykernel)",
   "language": "python",
   "name": "python3"
  },
  "language_info": {
   "codemirror_mode": {
    "name": "ipython",
    "version": 3
   },
   "file_extension": ".py",
   "mimetype": "text/x-python",
   "name": "python",
   "nbconvert_exporter": "python",
   "pygments_lexer": "ipython3",
   "version": "3.8.10"
  },
  "widgets": {
   "application/vnd.jupyter.widget-state+json": {
    "state": {},
    "version_major": 2,
    "version_minor": 0
   }
  }
 },
 "nbformat": 4,
 "nbformat_minor": 5
}
